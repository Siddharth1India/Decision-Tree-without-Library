{
  "nbformat": 4,
  "nbformat_minor": 0,
  "metadata": {
    "colab": {
      "name": "19BCP130-Assgn-2-Decision-Tree.pynb",
      "provenance": [],
      "collapsed_sections": []
    },
    "kernelspec": {
      "name": "python3",
      "display_name": "Python 3"
    },
    "language_info": {
      "name": "python"
    }
  },
  "cells": [
    {
      "cell_type": "code",
      "metadata": {
        "id": "b7yRJqlHQJJV"
      },
      "source": [
        "import numpy as np\n",
        "import pandas as pd\n",
        "import math\n",
        "from sklearn.datasets import load_iris\n",
        "from sklearn.model_selection import train_test_split\n",
        "from sklearn.metrics import accuracy_score"
      ],
      "execution_count": null,
      "outputs": []
    },
    {
      "cell_type": "code",
      "metadata": {
        "id": "ahm8oNWYQmXE"
      },
      "source": [
        "col = ['sepal_length','sepal_width','petal_length','petal_width']\n",
        "df = pd.DataFrame(load_iris().data, columns=col)\n",
        "df['type'] = 0\n",
        "df.iloc[0:50,-1] = 0\n",
        "df.iloc[50:100,-1] = 1\n",
        "df.iloc[100:150,-1] = 2"
      ],
      "execution_count": null,
      "outputs": []
    },
    {
      "cell_type": "code",
      "metadata": {
        "id": "xJ0BtdxzvBIz"
      },
      "source": [
        "class Node():\n",
        "  def __init__(self, fi=None, ts=None, left=None, right=None, ig=None, value=None):\n",
        "    '''Constructor of class, __init__ gives values to node as per attributes it have\n",
        "    here, value is for leafs and other are for conditional node\n",
        "    '''\n",
        "    self.right = right\n",
        "    self.left = left\n",
        "    self.fi = fi\n",
        "    self.ts = ts\n",
        "    self.ig = ig\n",
        "    self.value = value"
      ],
      "execution_count": null,
      "outputs": []
    },
    {
      "cell_type": "code",
      "metadata": {
        "id": "dZFsh30lwFYH"
      },
      "source": [
        "class DTC():\n",
        "  def __init__(self, min_splt=2, max_depth=2):\n",
        "    '''Here, constructing decision tree where minimum split default value and \n",
        "    max depth default values are given for conditional block initial conditions\n",
        "    '''\n",
        "    self.root = None\n",
        "    self.min_splt = min_splt\n",
        "    self.max_depth = max_depth\n",
        "  def treeBuilderMain(self, dataset, depthNow=0):\n",
        "    X = dataset[:,:-1]\n",
        "    y = dataset[:,-1]\n",
        "    '''Here, Features are in X variable which is whole dataframe except last column\n",
        "    which is type(species) column.\n",
        "    y is type column which we need to predict using decision tree\n",
        "    X and y are defined to make decisions based on label and features\n",
        "    '''\n",
        "    sam, fet = np.shape(X)\n",
        "    '''shape of features is given to sam and fet variables to limit conditionals\n",
        "    as per dataset length\n",
        "    '''\n",
        "    if sam>=self.min_splt and depthNow<=self.max_depth:\n",
        "      '''using opt_split_select function to get data of most optimized split for\n",
        "      tree creation (Final Tree)\n",
        "      '''\n",
        "      opt_splt = self.opt_split_select(dataset, sam, fet)\n",
        "      '''When info gain reach 0, we consider that Node as pure Node and leave \n",
        "      it without any further process\n",
        "      Hence whenever we find info gain more than 0, we keep processing on node \n",
        "      for more splits (Done by splt function)\n",
        "      '''\n",
        "      if opt_splt['ig']>0:\n",
        "        left = self.treeBuilderMain(opt_splt['datasetLeft'], depthNow+1)\n",
        "        right = self.treeBuilderMain(opt_splt['datasetRight'], depthNow+1)\n",
        "        return Node(opt_splt['fi'], opt_splt['ts'],left, right, opt_splt['ig'])\n",
        "    leafVal = self.leafValue(y)\n",
        "    return Node(value=leafVal)\n",
        "\n",
        "  def opt_split_select(self, dataset, sam, fet):\n",
        "    '''Creating split for optimized tree\n",
        "    '''\n",
        "    opt_splt = {}\n",
        "    max_ig = -float(\"inf\")\n",
        "\n",
        "    for fi in range(fet):\n",
        "      f_val = dataset[:,fi]\n",
        "      t = np.unique(f_val)\n",
        "      for ts in t:\n",
        "        datasetLeft, datasetRight = self.splt(dataset, fi, ts)\n",
        "        if len(datasetLeft)>0 and len(datasetRight)>0:\n",
        "          y, yLeft, yRight = dataset[:, -1], datasetLeft[:, -1], datasetRight[:, -1]\n",
        "          iNow = self.ig(y, yLeft, yRight, \"gini\")\n",
        "          if iNow>max_ig:\n",
        "            opt_splt['fi']=fi\n",
        "            opt_splt['ts']=ts\n",
        "            opt_splt['datasetLeft']=datasetLeft\n",
        "            opt_splt['datasetRight']=datasetRight\n",
        "            opt_splt['ig']=iNow\n",
        "            max_ig = iNow\n",
        "    return opt_splt\n",
        "\n",
        "  def splt(self, dataset, fi, ts):\n",
        "    datasetLeft = np.array([row for row in dataset if row[fi]<=ts])\n",
        "    datasetRight = np.array([row for row in dataset if row[fi]>ts])\n",
        "    return datasetLeft, datasetRight\n",
        "\n",
        "  def ig(self, p, l, r, mode=\"entropy\"):\n",
        "    wl = len(l)/len(p)\n",
        "    wr = len(r)/len(p)\n",
        "    if mode==\"gini\":\n",
        "      et = self.gini(p) - (wl*self.gini(l) + wr*self.gini(r))\n",
        "    else:\n",
        "      et = self.entropy(p) - (wl*self.entropy(l) + wr*self.entropy(r))\n",
        "    return et\n",
        "\n",
        "  def gini(self, y):\n",
        "    labels = np.unique(y)\n",
        "    gini_var = 0\n",
        "    for cls in labels:\n",
        "      prt = len(y[y == cls]) / len(y)\n",
        "      gini_var += prt**2\n",
        "    return 1 - gini_var\n",
        "  \n",
        "  def entropy(self, y):\n",
        "    label = np.unique(y)\n",
        "    entropy_var = 0\n",
        "    for cls in class_label:\n",
        "      prt = len(y[y == cls]) / len(y)\n",
        "      entropy_var += -prt * np.log2(prt)\n",
        "    return entropy_var\n",
        "\n",
        "  def leafValue(self, Y):\n",
        "    #compute leaf node\n",
        "    Y = list(Y)\n",
        "    return max(Y, key=Y.count)\n",
        "\n",
        "  def fit(self, X, y):\n",
        "    #now we train the tree\n",
        "    dataset = np.concatenate((X, y), axis=1)\n",
        "    self.root = self.treeBuilderMain(dataset)\n",
        "  \n",
        "  def predict(self, X):\n",
        "    #now we predict on test tree\n",
        "    pre = [self.prediction(x, self.root) for x in X]\n",
        "    return pre\n",
        "  def prediction(self, x, tree):\n",
        "    if tree.value!=None: \n",
        "      return tree.value\n",
        "    f_val = x[tree.fi]\n",
        "    if f_val<=tree.ts:\n",
        "      return self.prediction(x, tree.left)\n",
        "    else:\n",
        "      return self.prediction(x, tree.right)"
      ],
      "execution_count": null,
      "outputs": []
    },
    {
      "cell_type": "code",
      "metadata": {
        "id": "WOe7Yr4w2eVi"
      },
      "source": [
        "X = df.iloc[:, :-1].values\n",
        "Y = df.iloc[:, -1].values.reshape(-1,1)\n",
        "X_train, X_test, Y_train, Y_test = train_test_split(X, Y, test_size=.2, random_state=100)"
      ],
      "execution_count": null,
      "outputs": []
    },
    {
      "cell_type": "code",
      "metadata": {
        "id": "IgyJAoUl2heJ"
      },
      "source": [
        "classifier = DTC(min_splt=3, max_depth=3)\n",
        "classifier.fit(X_train,Y_train)"
      ],
      "execution_count": null,
      "outputs": []
    },
    {
      "cell_type": "code",
      "metadata": {
        "colab": {
          "base_uri": "https://localhost:8080/"
        },
        "id": "dIHaCjY-2kMH",
        "outputId": "4785ed27-8e41-4b39-b5e6-28470fd034a1"
      },
      "source": [
        "Y_pred = classifier.predict(X_test)\n",
        "print('Accuracy=', accuracy_score(Y_test, Y_pred)) \n"
      ],
      "execution_count": null,
      "outputs": [
        {
          "output_type": "stream",
          "name": "stdout",
          "text": [
            "Accuracy= 0.9666666666666667\n"
          ]
        }
      ]
    }
  ]
}